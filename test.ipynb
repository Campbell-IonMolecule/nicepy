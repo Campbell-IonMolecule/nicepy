{
 "cells": [
  {
   "cell_type": "code",
   "execution_count": 5,
   "metadata": {},
   "outputs": [],
   "source": [
    "import nicepy as npy\n",
    "from nicepy import beam\n",
    "from nicepy import tof\n",
    "from nicepy import u"
   ]
  },
  {
   "cell_type": "code",
   "execution_count": 6,
   "metadata": {},
   "outputs": [
    {
     "data": {
      "text/html": [
       "2117260.576635119 meter<sup>2</sup>/second<sup>2</sup>"
      ],
      "text/latex": [
       "$2117260.576635119\\ \\frac{\\mathrm{meter}^{2}}{\\mathrm{second}^{2}}$"
      ],
      "text/plain": [
       "<Quantity(2117260.576635119, 'meter ** 2 / second ** 2')>"
      ]
     },
     "execution_count": 6,
     "metadata": {},
     "output_type": "execute_result"
    }
   ],
   "source": [
    "beam.mb_mean_velocity(300*u.K, 3*u.amu)"
   ]
  }
 ],
 "metadata": {
  "kernelspec": {
   "display_name": "Python 3",
   "language": "python",
   "name": "python3"
  },
  "language_info": {
   "codemirror_mode": {
    "name": "ipython",
    "version": 3
   },
   "file_extension": ".py",
   "mimetype": "text/x-python",
   "name": "python",
   "nbconvert_exporter": "python",
   "pygments_lexer": "ipython3",
   "version": "3.6.2"
  }
 },
 "nbformat": 4,
 "nbformat_minor": 2
}
